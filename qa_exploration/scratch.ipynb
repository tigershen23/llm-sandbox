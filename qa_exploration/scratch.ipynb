{
 "cells": [
  {
   "attachments": {},
   "cell_type": "markdown",
   "metadata": {},
   "source": [
    "# Scratch\n"
   ]
  },
  {
   "cell_type": "code",
   "execution_count": null,
   "metadata": {},
   "outputs": [],
   "source": [
    "%pip install gpt_index html2text langchain"
   ]
  },
  {
   "cell_type": "code",
   "execution_count": null,
   "metadata": {},
   "outputs": [],
   "source": [
    "# Import dependencies\n",
    "from gpt_index import GPTTreeIndex, GPTListIndex, SimpleWebPageReader, SimpleDirectoryReader, BeautifulSoupWebReader, GPTSimpleVectorIndex\n",
    "from langchain.agents import load_tools, Tool, initialize_agent, ZeroShotAgent, AgentExecutor\n",
    "from langchain.llms import OpenAI\n",
    "from langchain import OpenAI, LLMChain\n",
    "from PIL import Image\n",
    "import os\n",
    "path = globals()['_dh'][0]"
   ]
  },
  {
   "attachments": {},
   "cell_type": "markdown",
   "metadata": {},
   "source": [
    "### Testing file_metadata parameter in SimpleDirectoryReader"
   ]
  },
  {
   "cell_type": "code",
   "execution_count": null,
   "metadata": {},
   "outputs": [],
   "source": [
    "transcripts_data = SimpleDirectoryReader(\n",
    "  str(path) + \"/data/transcripts\", \n",
    "  required_exts=[\".srt\"],\n",
    "  recursive=True\n",
    ").load_data()\n"
   ]
  },
  {
   "cell_type": "code",
   "execution_count": null,
   "metadata": {},
   "outputs": [],
   "source": [
    "transcripts_index = GPTSimpleVectorIndex(transcripts_data)"
   ]
  },
  {
   "cell_type": "code",
   "execution_count": null,
   "metadata": {},
   "outputs": [],
   "source": [
    "# Scratch\n",
    "print(len(transcripts_data))\n",
    "transcripts_data[2]\n",
    "# transcripts_data[2].get_embedding()\n",
    "transcripts_index"
   ]
  },
  {
   "cell_type": "code",
   "execution_count": null,
   "metadata": {},
   "outputs": [],
   "source": [
    "# Attach metadata\n",
    "def get_webinar_name_from_filename(full_path):\n",
    "    # Get the filename from the full path\n",
    "    filename = full_path.split('/')[-1]\n",
    "\n",
    "    # Split the filename by underscore and remove the first element (the number)\n",
    "    parts = filename.split('_')[1:]\n",
    "\n",
    "    # Remove the '.srt' extension from the last element\n",
    "    parts[-1] = parts[-1].replace('.srt', '')\n",
    "\n",
    "    # Join the remaining elements with a space to create the desired output\n",
    "    webinar_name = ' '.join(parts)\n",
    "\n",
    "    return { \"webinar_name\": webinar_name }\n",
    "\n",
    "\n",
    "transcripts_data_with_metadata = SimpleDirectoryReader(\n",
    "  str(path) + \"/data/transcripts\", \n",
    "  required_exts=[\".srt\"],\n",
    "  file_metadata=get_webinar_name_from_filename,\n",
    "  recursive=True\n",
    ").load_data()\n",
    "\n",
    "transcripts_data_with_metadata[2]"
   ]
  },
  {
   "cell_type": "code",
   "execution_count": null,
   "metadata": {},
   "outputs": [],
   "source": []
  },
  {
   "attachments": {},
   "cell_type": "markdown",
   "metadata": {},
   "source": [
    "### Checking stuff"
   ]
  },
  {
   "cell_type": "code",
   "execution_count": 1,
   "metadata": {},
   "outputs": [],
   "source": [
    "%load_ext snakeviz"
   ]
  },
  {
   "cell_type": "code",
   "execution_count": 3,
   "metadata": {},
   "outputs": [
    {
     "name": "stdout",
     "output_type": "stream",
     "text": [
      "snakeviz web server started on 127.0.0.1:8080; enter Ctrl-C to exit\n",
      "http://127.0.0.1:8080/snakeviz/%2Fworkspaces%2Fllm-sandbox%2Fqa_exploration%2Fprofs%2Fwelcome_zendesk_1.prof\n",
      "^C\n",
      "\n",
      "Bye!\n"
     ]
    }
   ],
   "source": [
    "!snakeviz profs/welcome_zendesk_1.prof"
   ]
  },
  {
   "cell_type": "code",
   "execution_count": null,
   "metadata": {},
   "outputs": [],
   "source": []
  }
 ],
 "metadata": {
  "kernelspec": {
   "display_name": "Python 3",
   "language": "python",
   "name": "python3"
  },
  "language_info": {
   "codemirror_mode": {
    "name": "ipython",
    "version": 3
   },
   "file_extension": ".py",
   "mimetype": "text/x-python",
   "name": "python",
   "nbconvert_exporter": "python",
   "pygments_lexer": "ipython3",
   "version": "3.8.10"
  },
  "orig_nbformat": 4,
  "vscode": {
   "interpreter": {
    "hash": "3ad933181bd8a04b432d3370b9dc3b0662ad032c4dfaa4e4f1596c548f763858"
   }
  }
 },
 "nbformat": 4,
 "nbformat_minor": 2
}
